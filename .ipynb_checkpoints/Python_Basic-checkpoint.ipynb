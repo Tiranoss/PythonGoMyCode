{
 "cells": [
  {
   "cell_type": "code",
   "execution_count": 4,
   "metadata": {},
   "outputs": [
    {
     "name": "stdout",
     "output_type": "stream",
     "text": [
      "Your First Name : Kanoun\n",
      "Your Last Name : Bilel\n",
      "Hello  Bilel Kanoun\n"
     ]
    }
   ],
   "source": [
    "#Question 1\n",
    "#Write a Python program which accepts the user's first and last name and print them in reverse order with a space between them.\n",
    "fname = input(\"Your First Name : \")\n",
    "lname = input(\"Your Last Name : \")\n",
    "print (\"Hello  \" + lname + \" \" + fname)"
   ]
  },
  {
   "cell_type": "code",
   "execution_count": 5,
   "metadata": {},
   "outputs": [
    {
     "name": "stdout",
     "output_type": "stream",
     "text": [
      "Input an integer : 5\n",
      "615\n"
     ]
    }
   ],
   "source": [
    "#Question 2\n",
    "#Write a Python program that accepts an integer (n) and computes the value of n+nn+nnn\n",
    "#Sample value of n is 5 \n",
    "#Expected Result : 615 (5+55+555)\n",
    "a = int(input(\"Input an integer : \"))\n",
    "n1 = int( \"%s\" % a )\n",
    "n2 = int( \"%s%s\" % (a,a) )\n",
    "n3 = int( \"%s%s%s\" % (a,a,a) )\n",
    "print (n1+n2+n3)"
   ]
  },
  {
   "cell_type": "code",
   "execution_count": 26,
   "metadata": {},
   "outputs": [
    {
     "name": "stdout",
     "output_type": "stream",
     "text": [
      "Input an integer : 5\n",
      "615\n"
     ]
    }
   ],
   "source": [
    "n = (input(\"Input an integer : \"))\n",
    "str1 = int(n+n)\n",
    "str2 = int(n*2 + n)\n",
    "print (int(n)+str1+str2)"
   ]
  },
  {
   "cell_type": "code",
   "execution_count": 13,
   "metadata": {},
   "outputs": [
    {
     "name": "stdout",
     "output_type": "stream",
     "text": [
      "Inter an integer :5\n",
      "the value is : 615\n"
     ]
    }
   ],
   "source": [
    "n=input(\"Inter an integer :\")\n",
    "n=int(n)\n",
    "print(n*1 + n*11 + n*111)"
   ]
  },
  {
   "cell_type": "code",
   "execution_count": 32,
   "metadata": {},
   "outputs": [
    {
     "name": "stdout",
     "output_type": "stream",
     "text": [
      "Enter a number: 5\n",
      "This is an odd number.\n"
     ]
    }
   ],
   "source": [
    "#Question 3\n",
    "#Write a Python program to find whether a given number (accept from the user) is even or odd, print out an appropriate message to the user.\n",
    "num = int(input(\"Enter a number: \"))\n",
    "mod = num % 2\n",
    "if mod > 0:\n",
    "    print(\"This is an odd number.\")\n",
    "else:\n",
    "    print(\"This is an even number.\")"
   ]
  },
  {
   "cell_type": "code",
   "execution_count": 29,
   "metadata": {},
   "outputs": [
    {
     "name": "stdout",
     "output_type": "stream",
     "text": [
      "Enter a number: 5\n",
      "Odd\n"
     ]
    }
   ],
   "source": [
    "evod = int(input(\"Enter a number: \"))\n",
    "print(\"Even\" if evod % 2 ==0 else \"Odd\")"
   ]
  },
  {
   "cell_type": "code",
   "execution_count": 31,
   "metadata": {},
   "outputs": [
    {
     "name": "stdout",
     "output_type": "stream",
     "text": [
      "2030,2065,2100,2135,2170,2205,2240,2275,2310,2345,2380,2415,2450,2485,2520,2555,2590,2625,2660,2695,2730,2765,2800,2835,2870,2905,2940,2975,3010,3045,3080,3115,3150,3185\n"
     ]
    }
   ],
   "source": [
    "#Question 4\n",
    "#Write a program which will find all such numbers which are divisible by 7 but are not a multiple of 5, between 2000 and 3200 (both included). The numbers obtained should be printed in a sequence on a single line.\n",
    "#Hints: Consider use range(#begin, #end) method \n",
    "nl=[]\n",
    "for x in range(2000, 3200):\n",
    "    if (x%7==0) and (x%5==0):\n",
    "        nl.append(str(x))\n",
    "print (','.join(nl))"
   ]
  },
  {
   "cell_type": "code",
   "execution_count": 46,
   "metadata": {},
   "outputs": [
    {
     "name": "stdout",
     "output_type": "stream",
     "text": [
      "2030 2065 2100 2135 2170 2205 2240 2275 2310 2345 2380 2415 2450 2485 2520 2555 2590 2625 2660 2695 2730 2765 2800 2835 2870 2905 2940 2975 3010 3045 3080 3115 3150 3185 "
     ]
    }
   ],
   "source": [
    "for i in range(2000, 3200):\n",
    "    if i%7==0 and i%5==0:\n",
    "        print(i, end = ' ') #Syntax chance ..... :/"
   ]
  },
  {
   "cell_type": "code",
   "execution_count": 50,
   "metadata": {},
   "outputs": [
    {
     "name": "stdout",
     "output_type": "stream",
     "text": [
      "Input a number to compute the factiorial : 8\n",
      "40320\n"
     ]
    }
   ],
   "source": [
    "#Question 5\n",
    "#Write a program which can compute the factorial of a given numbers. \n",
    "#The results should be printed in a sequence on a single line. Suppose the following input is supplied to the program: 8 Then,\n",
    "#the output should be: 40320 \n",
    "def factorial(n):\n",
    "    if n == 0:\n",
    "        return 1\n",
    "    else:\n",
    "        return n * factorial(n-1)\n",
    "n=int(input(\"Input a number to compute the factiorial : \"))\n",
    "print(factorial(n))"
   ]
  },
  {
   "cell_type": "code",
   "execution_count": 52,
   "metadata": {},
   "outputs": [
    {
     "name": "stdout",
     "output_type": "stream",
     "text": [
      "ace\n",
      "hlota\n"
     ]
    }
   ],
   "source": [
    "#Question 6\n",
    "#Write a program to remove the characters which have odd index values of a given string.\n",
    "#for example: string =\"hello team\"\n",
    "#result should be: hlota\n",
    "def odd_values_string(str):\n",
    "  result = \"\" \n",
    "  for i in range(len(str)):\n",
    "    if i % 2 == 0:\n",
    "      result = result + str[i]\n",
    "  return result\n",
    "\n",
    "print(odd_values_string('abcdef'))\n",
    "print(odd_values_string('hello team'))"
   ]
  },
  {
   "cell_type": "code",
   "execution_count": 75,
   "metadata": {},
   "outputs": [
    {
     "name": "stdout",
     "output_type": "stream",
     "text": [
      "0\n",
      "300\n",
      "0\n"
     ]
    }
   ],
   "source": [
    "#Question 7\n",
    "#In this challenge, you must discount a price according to its value.\n",
    "#- If the price is 500 or above, there will be a 50% discount.\n",
    "#- If the price is between 200 and 500 (200 inclusive), there will be a 30% discount.\n",
    "#- If the price is less than 200, there will be a 10% discount.\n",
    "def buy_and_sell(stock_price):\n",
    "    max_profit_val, current_max_val = 0, 500 \n",
    "    for price in reversed(stock_price):                       \n",
    "        current_max_val = max(current_max_val, price)          \n",
    "        potential_profit = current_max_val - price          \n",
    "        max_profit_val = max(potential_profit, max_profit_val)\n",
    "\n",
    "    return max_profit_val\n",
    "\n",
    "print(buy_and_sell([501]))\n",
    "print(buy_and_sell([200, 500]))\n",
    "print(buy_and_sell([]))\n"
   ]
  },
  {
   "cell_type": "code",
   "execution_count": 73,
   "metadata": {},
   "outputs": [
    {
     "name": "stdout",
     "output_type": "stream",
     "text": [
      "Saisissez une année : 4\n",
      "L'année saisie est bissextile.\n"
     ]
    }
   ],
   "source": [
    "#Question 8\n",
    "#Write a program to check whether a given year is a leap year or not.\n",
    "#hint: A leap year is exactly divisible by 4 except for century years (years ending with 00).\n",
    "annee = input(\"Saisissez une année : \") # On attend que l'utilisateur saisisse l'année qu'il désire tester\n",
    "annee = int(annee) # Risque d'erreur si l'utilisateur n'a pas saisi un nombre\n",
    "bissextile = False # On crée un booléen qui vaut vrai ou faux\n",
    "                   # selon que l'année est bissextile ou non\n",
    " \n",
    "if annee % 400 == 0:\n",
    "    bissextile = True\n",
    "elif annee % 100 == 0:\n",
    "    bissextile = False\n",
    "elif annee % 4 == 0:\n",
    "    bissextile = True\n",
    "else:\n",
    "    bissextile = False\n",
    " \n",
    "if bissextile: # Si l'année est bissextile\n",
    "    print(\"L'année saisie est bissextile.\")\n",
    "else:\n",
    "    print(\"L'année saisie n'est pas bissextile.\")"
   ]
  },
  {
   "cell_type": "code",
   "execution_count": 74,
   "metadata": {},
   "outputs": [
    {
     "name": "stdout",
     "output_type": "stream",
     "text": [
      "Veuillez entrer une annee : 1992\n",
      "Bissextile\n"
     ]
    }
   ],
   "source": [
    "from calendar import monthrange\n",
    " \n",
    "annee = input(\"Veuillez entrer une annee : \")\n",
    "annee = int(annee)\n",
    " \n",
    "if monthrange(annee, 2)[1] == 29:\n",
    "    print(\"Bissextile\")\n",
    "else:\n",
    "    print(\"Non bissextile\")"
   ]
  },
  {
   "cell_type": "code",
   "execution_count": null,
   "metadata": {},
   "outputs": [],
   "source": []
  }
 ],
 "metadata": {
  "kernelspec": {
   "display_name": "Python 3",
   "language": "python",
   "name": "python3"
  },
  "language_info": {
   "codemirror_mode": {
    "name": "ipython",
    "version": 3
   },
   "file_extension": ".py",
   "mimetype": "text/x-python",
   "name": "python",
   "nbconvert_exporter": "python",
   "pygments_lexer": "ipython3",
   "version": "3.8.5"
  }
 },
 "nbformat": 4,
 "nbformat_minor": 4
}
