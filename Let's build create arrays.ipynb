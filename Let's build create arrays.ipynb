{
 "cells": [
  {
   "cell_type": "code",
   "execution_count": 5,
   "metadata": {},
   "outputs": [
    {
     "name": "stdout",
     "output_type": "stream",
     "text": [
      "Original array: array('i', [1, 3, 5, 3, 7, 1, 9, 3])\n",
      "Convert the said array to an ordinary list with the same items:\n",
      "[1, 3, 5, 3, 7, 1, 9, 3]\n"
     ]
    }
   ],
   "source": [
    "#Question 1 : Write a Python program to convert an array to an ordinary list with the same items.\n",
    "\n",
    "from array import *\n",
    "array_num = array('i', [1, 3, 5, 3, 7, 1, 9, 3])\n",
    "print(\"Original array: \"+str(array_num))\n",
    "num_list = array_num.tolist()\n",
    "print(\"Convert the said array to an ordinary list with the same items:\")\n",
    "print(num_list)"
   ]
  },
  {
   "cell_type": "code",
   "execution_count": 7,
   "metadata": {},
   "outputs": [
    {
     "name": "stdout",
     "output_type": "stream",
     "text": [
      "Original matrix:\n",
      "[[0 1 2]\n",
      " [3 4 5]]\n",
      "Condition number of the said matrix:\n",
      "4\n"
     ]
    }
   ],
   "source": [
    "#Question 2 : Write a NumPy program to compute the sum of the diagonal element of a given array.\n",
    "\n",
    "import numpy as np\n",
    "m = np.arange(6).reshape(2,3)\n",
    "print(\"Original matrix:\")\n",
    "print(m)\n",
    "result =  np.trace(m)\n",
    "print(\"Condition number of the said matrix:\")\n",
    "print(result)\n"
   ]
  },
  {
   "cell_type": "code",
   "execution_count": 12,
   "metadata": {},
   "outputs": [
    {
     "name": "stdout",
     "output_type": "stream",
     "text": [
      "[1, 1, 2, 3, 6, 8, 10]\n"
     ]
    }
   ],
   "source": [
    "#Question 3 : Given an array of your choice, get all the values higher than X :\n",
    "             #if a = [[1,2],[3,5]] and x = 3 :  then 3 and 5 are higher than 2.\n",
    "\n",
    "def quicksort(arr):\n",
    "    if len(arr) <= 1:\n",
    "        return arr\n",
    "    pivot = arr[len(arr) // 2]\n",
    "    left = [x for x in arr if x < pivot]\n",
    "    middle = [x for x in arr if x == pivot]\n",
    "    right = [x for x in arr if x > pivot]\n",
    "    return quicksort(left) + middle + quicksort(right)\n",
    "\n",
    "print(quicksort([3,6,8,10,1,2,1]))"
   ]
  },
  {
   "cell_type": "code",
   "execution_count": 20,
   "metadata": {},
   "outputs": [
    {
     "name": "stdout",
     "output_type": "stream",
     "text": [
      "4 6\n"
     ]
    }
   ],
   "source": [
    "#Question 4 : Given two arrays A&B having the same shape. \n",
    "             #The task is to apply addition by hand : C is the new array. \n",
    "def getSum(X): \n",
    "    sum=0\n",
    "    for i in X: \n",
    "        sum+=i \n",
    "    return sum\n",
    "  \n",
    "# Function to prints elements to be swapped \n",
    "def findSwapValues(A,B): \n",
    "    # Calculation if sums from both lists \n",
    "    sum1=getSum(A) \n",
    "    sum2=getSum(B) \n",
    "  \n",
    "    # Boolean variable used to reduce further iterations \n",
    "    # after the pair is found \n",
    "    k=False\n",
    "  \n",
    "    # Lool for val1 and val2, such that \n",
    "    # sumA - val1 + val2 = sumB -val2 + val1 \n",
    "    val1,val2=0,0\n",
    "    for i in A: \n",
    "        for j in B: \n",
    "            newsum1=sum1-i+j \n",
    "            newsum2=sum2-j+i \n",
    "              \n",
    "            if newsum1 ==newsum2: \n",
    "                val1=i \n",
    "                val2=j \n",
    "                # Set to True when pair is found \n",
    "                k=True\n",
    "                break\n",
    "        # If k is True, it means pair is found. \n",
    "        # So, no further iterations. \n",
    "        if k==True: \n",
    "            break\n",
    "    print (val1,val2) \n",
    "    return \n",
    "A=[4,1,2,1,1,2] \n",
    "B=[3,6,3,3] \n",
    "  \n",
    "findSwapValues(A,B) \n"
   ]
  },
  {
   "cell_type": "code",
   "execution_count": 21,
   "metadata": {},
   "outputs": [
    {
     "name": "stdout",
     "output_type": "stream",
     "text": [
      "Original matrix:\n",
      "\n",
      "[[0.34966776 0.2125638  0.18539571 0.39002633 0.02534892 0.89108369\n",
      "  0.45906832 0.8815548  0.39005282 0.07841464]\n",
      " [0.71198116 0.19134464 0.28046068 0.55009264 0.51885818 0.25639707\n",
      "  0.81684213 0.51875704 0.52162688 0.85593694]\n",
      " [0.98670783 0.15254921 0.48565946 0.35359597 0.52025305 0.40072121\n",
      "  0.35999666 0.30507762 0.40669172 0.21834915]\n",
      " [0.41263842 0.40257649 0.51576416 0.68358084 0.3951141  0.72955961\n",
      "  0.05144952 0.93308187 0.52682737 0.35548957]\n",
      " [0.46277974 0.05970695 0.08695893 0.9089156  0.60854989 0.18782346\n",
      "  0.8476455  0.99678467 0.23352436 0.69198581]]\n",
      "\n",
      "Subtract the mean of each row of the said matrix:\n",
      "\n",
      "[[-0.03664992 -0.17375388 -0.20092197  0.00370865 -0.36096876  0.50476601\n",
      "   0.07275064  0.49523712  0.00373514 -0.30790304]\n",
      " [ 0.18975142 -0.3308851  -0.24176905  0.02786291 -0.00337155 -0.26583267\n",
      "   0.2946124  -0.0034727  -0.00060286  0.3337072 ]\n",
      " [ 0.56774764 -0.26641098  0.06669928 -0.06536422  0.10129286 -0.01823898\n",
      "  -0.05896353 -0.11388257 -0.01226846 -0.20061104]\n",
      " [-0.08796978 -0.0980317   0.01515597  0.18297265 -0.1054941   0.22895142\n",
      "  -0.44915867  0.43247367  0.02621917 -0.14511862]\n",
      " [-0.04568775 -0.44876054 -0.42150856  0.40044811  0.1000824  -0.32064403\n",
      "   0.339178    0.48831718 -0.27494313  0.18351832]]\n"
     ]
    }
   ],
   "source": [
    "#Question 5 : Write a NumPy program to subtract the mean of each row of a given matrix.\n",
    "\n",
    "import numpy as np\n",
    "print(\"Original matrix:\\n\")\n",
    "X = np.random.rand(5, 10)\n",
    "print(X)\n",
    "print(\"\\nSubtract the mean of each row of the said matrix:\\n\")\n",
    "Y = X - X.mean(axis=1, keepdims=True)\n",
    "print(Y)\n"
   ]
  },
  {
   "cell_type": "code",
   "execution_count": null,
   "metadata": {},
   "outputs": [],
   "source": []
  }
 ],
 "metadata": {
  "kernelspec": {
   "display_name": "Python 3",
   "language": "python",
   "name": "python3"
  },
  "language_info": {
   "codemirror_mode": {
    "name": "ipython",
    "version": 3
   },
   "file_extension": ".py",
   "mimetype": "text/x-python",
   "name": "python",
   "nbconvert_exporter": "python",
   "pygments_lexer": "ipython3",
   "version": "3.8.5"
  }
 },
 "nbformat": 4,
 "nbformat_minor": 4
}
